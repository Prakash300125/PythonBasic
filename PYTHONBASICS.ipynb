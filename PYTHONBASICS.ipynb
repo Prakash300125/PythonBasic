{
  "nbformat": 4,
  "nbformat_minor": 0,
  "metadata": {
    "colab": {
      "provenance": []
    },
    "kernelspec": {
      "name": "python3",
      "display_name": "Python 3"
    },
    "language_info": {
      "name": "python"
    }
  },
  "cells": [
    {
      "cell_type": "markdown",
      "source": [
        "#PythonBasic\n"
      ],
      "metadata": {
        "id": "7bIuxJyhCrMG"
      }
    },
    {
      "cell_type": "markdown",
      "source": [
        "1.What is Python, and why is it popular ?\n",
        "   ->Python is a high-level,interpreted programming language known for is readability and its large standerd library.\n",
        "2.What is an interpreter in Python?\n",
        "  ->interpreter is process of run code line by line and convert it into machine code during run-time.\n",
        "3.What are pre-defined keywords in Python?\n",
        "  ->Keywords are  reserved words in python that have special meaning, like- if,else,class,def etc.\n",
        "4.Can keywords be used as variable names?\n",
        " -> no,keywords be used as variable names.\n",
        "5.What is mutability in Python?\n",
        " ->Mutability refers to whether or not an object’s value can be changed after it is created.\n",
        "\n",
        "Mutable: Can be changed (e.g. lists, dictionaries).\n",
        "\n",
        "Immutable: Cannot be changed (e.g. strings, tuples).\n",
        "\n",
        "6.Why are lists mutable, but tuples are immutable?\n",
        "\n",
        "  ->Lists are designed for dynamic data — you can add, remove, or change elements.\n",
        "Tuples are used for fixed data — once created, their contents cannot be altered.\n",
        "This immutability allows tuples to be used as dictionary keys and enhances performance and safety.\n",
        "\n",
        "7.What is the difference between “==” and “is” operators in Python?\n",
        "  \n",
        "  ->== checks if values are equal (content comparison).\n",
        "   is checks if two variables point to the same object in memory (identity comparison).\n",
        "\n",
        "8.What are logical operators in Python ?\n",
        "\n",
        " ->Logical operators are used to combine boolean expressions:\n",
        "\n",
        "and – True if both conditions are true\n",
        "\n",
        "or – True if at least one condition is true\n",
        "\n",
        "not – Inverts the boolean value.\n",
        "\n",
        "9.What is type casting in Python?\n",
        "\n",
        "->Type casting is converting one data type into another.\n",
        "\n",
        "10. What is the difference between implicit and explicit type casting?\n",
        "  -> Implicit casting: Done automatically by Python.\n",
        "e.g.\n",
        "x = 5 + 3.0  # x becomes 8.0 (int to float)\n",
        "\n",
        "Explicit casting: Manually done by the programmer.\n",
        "e.g.\n",
        "x = int(\"7\")  # Converts string to integer.\n",
        "\n",
        "\n",
        "11.What is the purpose of conditional statements in Python?\n",
        " ->Conditional statements are used to make decisions in code based on conditions.\n",
        "They allow the program to execute different blocks depending on whether a condition is True or False.\n",
        "\n",
        "12. How does the elif statement work ?\n",
        "->elif (short for \"else if\") allows checking multiple conditions in an if block.\n",
        "\n",
        "13.What is the difference between for and while loops?\n",
        " ->for loop: Used when number of iterations is known or finite (e.g., iterating through a list).\n",
        "while loop: Used when the condition is checked continuously and may run indefinitely until the condition is false.\n",
        "\n",
        "14.Describe a scenario where a while loop is more suitable than a for loop.\n",
        " -> Scenario: Reading user input until they type \"exit\".\n",
        "e.g.:\n",
        "user_input = \"\"\n",
        "while user_input != \"exit\":\n",
        "    user_input = input(\"Type 'exit' to quit: \")\n",
        "\n",
        "Here, you don’t know how many times the loop will run — perfect for a while loop.\n",
        "\n"
      ],
      "metadata": {
        "id": "S9c2jmOEC1yq"
      }
    },
    {
      "cell_type": "code",
      "source": [
        "#Write a Python program to print \"Hello, World!\"\n",
        "\n",
        "print(\"Hello, Worrld!\")"
      ],
      "metadata": {
        "colab": {
          "base_uri": "https://localhost:8080/"
        },
        "id": "IAd4Xt5xQZDB",
        "outputId": "9f387212-ab78-4dd6-fe89-35734a9d6ca7"
      },
      "execution_count": 1,
      "outputs": [
        {
          "output_type": "stream",
          "name": "stdout",
          "text": [
            "Hello, Worrld!\n"
          ]
        }
      ]
    },
    {
      "cell_type": "code",
      "source": [
        "#Write a Python program that displays your name and age\n",
        "\n",
        "name = \"Prakash\"\n",
        "age = 27\n",
        "print(\"Name:\", name)\n",
        "print(\"Age:\", age)"
      ],
      "metadata": {
        "colab": {
          "base_uri": "https://localhost:8080/"
        },
        "id": "SpzvjeuYQsk7",
        "outputId": "4a539db5-429f-4a6f-ca32-ce74c37a081b"
      },
      "execution_count": 2,
      "outputs": [
        {
          "output_type": "stream",
          "name": "stdout",
          "text": [
            "Name: Prakash\n",
            "Age: 27\n"
          ]
        }
      ]
    },
    {
      "cell_type": "code",
      "source": [
        "#Write code to print all the pre-defined keywords in Python using the keyword library\n",
        "\n",
        "import keyword\n",
        "print(\"Python Keywords:\")\n",
        "print(keyword.kwlist)"
      ],
      "metadata": {
        "colab": {
          "base_uri": "https://localhost:8080/"
        },
        "id": "yI7YJf-yQ8vw",
        "outputId": "a8e9f56c-fbac-4651-b579-22345924bdb9"
      },
      "execution_count": 3,
      "outputs": [
        {
          "output_type": "stream",
          "name": "stdout",
          "text": [
            "Python Keywords:\n",
            "['False', 'None', 'True', 'and', 'as', 'assert', 'async', 'await', 'break', 'class', 'continue', 'def', 'del', 'elif', 'else', 'except', 'finally', 'for', 'from', 'global', 'if', 'import', 'in', 'is', 'lambda', 'nonlocal', 'not', 'or', 'pass', 'raise', 'return', 'try', 'while', 'with', 'yield']\n"
          ]
        }
      ]
    },
    {
      "cell_type": "code",
      "source": [
        "#Write a program that checks if a given word is a Python keyword.\n",
        "\n",
        "word = input(\"Enter a word: \")\n",
        "if keyword.iskeyword(word):\n",
        "    print(f\"'{word}' is a Python keyword.\")\n",
        "else:\n",
        "    print(f\"'{word}' is NOT a Python keyword.\")"
      ],
      "metadata": {
        "colab": {
          "base_uri": "https://localhost:8080/"
        },
        "id": "MeMjzwphRJLV",
        "outputId": "df7e0bf2-7942-4c38-f216-700ad0358fd9"
      },
      "execution_count": 4,
      "outputs": [
        {
          "output_type": "stream",
          "name": "stdout",
          "text": [
            "Enter a word: prakash\n",
            "'prakash' is NOT a Python keyword.\n"
          ]
        }
      ]
    },
    {
      "cell_type": "code",
      "source": [
        "# Create a list and tuple in Python, and demonstrate how attempting to change an element works differently\n",
        "#for each.\n",
        "\n",
        "my_list = [1, 2, 3]\n",
        "my_tuple = (1, 2, 3)\n",
        "\n",
        "my_list[0] = 100\n",
        "print(\"Modified List:\", my_list)"
      ],
      "metadata": {
        "colab": {
          "base_uri": "https://localhost:8080/"
        },
        "id": "psk2Cs4pRWnV",
        "outputId": "0b4e97f9-c005-4d4d-cf04-2f410a5b04eb"
      },
      "execution_count": 5,
      "outputs": [
        {
          "output_type": "stream",
          "name": "stdout",
          "text": [
            "Modified List: [100, 2, 3]\n"
          ]
        }
      ]
    },
    {
      "cell_type": "code",
      "source": [
        "#Write a function to demonstrate the behavior of mutable and immutable arguments\n",
        "\n",
        "def modify_list(lst):\n",
        "    lst.append(10)\n",
        "\n",
        "def modify_number(num):\n",
        "    num += 10\n",
        "    return num\n",
        "\n",
        "my_list = [1, 2, 3]\n",
        "my_num = 5\n",
        "\n",
        "modify_list(my_list)\n",
        "new_num = modify_number(my_num)\n",
        "\n",
        "print(\"Modified list (mutable):\", my_list)\n",
        "print(\"Original number (immutable):\", my_num)\n",
        "print(\"Returned new number:\", new_num)\n"
      ],
      "metadata": {
        "colab": {
          "base_uri": "https://localhost:8080/"
        },
        "id": "LnhHCDUXR-g_",
        "outputId": "9aa9dc46-7c5b-480c-87fa-19b42625ab09"
      },
      "execution_count": 6,
      "outputs": [
        {
          "output_type": "stream",
          "name": "stdout",
          "text": [
            "Modified list (mutable): [1, 2, 3, 10]\n",
            "Original number (immutable): 5\n",
            "Returned new number: 15\n"
          ]
        }
      ]
    },
    {
      "cell_type": "code",
      "source": [
        "# Write a program that performs basic arithmetic operations on two user-input numbers.\n",
        "\n",
        "a = float(input(\"Enter first number: \"))\n",
        "b = float(input(\"Enter second number: \"))\n",
        "\n",
        "print(\"Sum:\", a + b)\n",
        "print(\"Difference:\", a - b)\n",
        "print(\"Product:\", a * b)\n",
        "print(\"Quotient:\", a / b)"
      ],
      "metadata": {
        "colab": {
          "base_uri": "https://localhost:8080/"
        },
        "id": "MdNYXqTNSOvr",
        "outputId": "8ceb8d57-19c7-47a6-a61c-35043e156ee3"
      },
      "execution_count": 7,
      "outputs": [
        {
          "output_type": "stream",
          "name": "stdout",
          "text": [
            "Enter first number: 25\n",
            "Enter second number: 22\n",
            "Sum: 47.0\n",
            "Difference: 3.0\n",
            "Product: 550.0\n",
            "Quotient: 1.1363636363636365\n"
          ]
        }
      ]
    },
    {
      "cell_type": "code",
      "source": [
        "#Write a program to demonstrate the use of logical operators.\n",
        "\n",
        "a = 10\n",
        "b = 20\n",
        "\n",
        "print(a > 5 and b > 15)\n",
        "print(a > 15 or b > 15)\n",
        "print(not(a > 5))\n"
      ],
      "metadata": {
        "colab": {
          "base_uri": "https://localhost:8080/"
        },
        "id": "lMCWAPbaSbE9",
        "outputId": "0de810a0-17ce-4995-b979-8bdb22ef8a52"
      },
      "execution_count": 8,
      "outputs": [
        {
          "output_type": "stream",
          "name": "stdout",
          "text": [
            "True\n",
            "True\n",
            "False\n"
          ]
        }
      ]
    },
    {
      "cell_type": "code",
      "source": [
        "# Write a Python program to convert user input from string to integer, float, and boolean types.\n",
        "\n",
        "user_input = input(\"Enter something: \")\n",
        "\n",
        "int_val = int(user_input)\n",
        "float_val = float(user_input)\n",
        "bool_val = bool(user_input)\n",
        "\n",
        "print(\"Integer:\", int_val)\n",
        "print(\"Float:\", float_val)\n",
        "print(\"Boolean:\", bool_val)"
      ],
      "metadata": {
        "colab": {
          "base_uri": "https://localhost:8080/"
        },
        "id": "hen7zDQLSsIu",
        "outputId": "cdf030b6-a357-4e20-fc6d-4194e5afe62d"
      },
      "execution_count": 9,
      "outputs": [
        {
          "output_type": "stream",
          "name": "stdout",
          "text": [
            "Enter something: 2498\n",
            "Integer: 2498\n",
            "Float: 2498.0\n",
            "Boolean: True\n"
          ]
        }
      ]
    },
    {
      "cell_type": "code",
      "source": [
        "#Write code to demonstrate type casting with list elements.\n",
        "\n",
        "str_list = ['1', '2', '3']\n",
        "int_list = [int(x) for x in str_list]\n",
        "print(\"Integer List:\", int_list)"
      ],
      "metadata": {
        "colab": {
          "base_uri": "https://localhost:8080/"
        },
        "id": "8Ihh_o05S6EV",
        "outputId": "1b4f250f-20e1-4ec1-b27e-7332a3a00e42"
      },
      "execution_count": 10,
      "outputs": [
        {
          "output_type": "stream",
          "name": "stdout",
          "text": [
            "Integer List: [1, 2, 3]\n"
          ]
        }
      ]
    },
    {
      "cell_type": "code",
      "source": [
        "# Write a program that checks if a number is positive, negative, or zero.\n",
        "\n",
        "num = float(input(\"Enter a number: \"))\n",
        "\n",
        "if num > 0:\n",
        "    print(\"Positive\")\n",
        "elif num < 0:\n",
        "    print(\"Negative\")\n",
        "else:\n",
        "    print(\"Zero\")\n"
      ],
      "metadata": {
        "colab": {
          "base_uri": "https://localhost:8080/"
        },
        "id": "1VBVEkcsTGOr",
        "outputId": "9fce5e34-d644-4659-8846-b7f1b2862e0e"
      },
      "execution_count": 11,
      "outputs": [
        {
          "output_type": "stream",
          "name": "stdout",
          "text": [
            "Enter a number: 2348\n",
            "Positive\n"
          ]
        }
      ]
    },
    {
      "cell_type": "code",
      "source": [
        "# Write a for loop to print numbers from 1 to 10.\n",
        "\n",
        "for i in range(1, 11):\n",
        "    print(i)\n"
      ],
      "metadata": {
        "colab": {
          "base_uri": "https://localhost:8080/"
        },
        "id": "Yg1rp5e1TMkt",
        "outputId": "f0343351-3478-4575-f432-d988c025dd5c"
      },
      "execution_count": 12,
      "outputs": [
        {
          "output_type": "stream",
          "name": "stdout",
          "text": [
            "1\n",
            "2\n",
            "3\n",
            "4\n",
            "5\n",
            "6\n",
            "7\n",
            "8\n",
            "9\n",
            "10\n"
          ]
        }
      ]
    },
    {
      "cell_type": "code",
      "source": [
        "#Write a Python program to find the sum of all even numbers between 1 and 50.\n",
        "\n",
        "total = 0\n",
        "for i in range(2, 51, 2):\n",
        "    total += i\n",
        "print(\"Sum of even numbers from 1 to 50:\", total)\n"
      ],
      "metadata": {
        "colab": {
          "base_uri": "https://localhost:8080/"
        },
        "id": "RVlPcl70TVGe",
        "outputId": "b777cb6a-d0ad-4a44-e252-09b603720f6e"
      },
      "execution_count": 13,
      "outputs": [
        {
          "output_type": "stream",
          "name": "stdout",
          "text": [
            "Sum of even numbers from 1 to 50: 650\n"
          ]
        }
      ]
    },
    {
      "cell_type": "code",
      "source": [
        "# Write a program to reverse a string using a while loop\n",
        "\n",
        "text = input(\"Enter a string: \")\n",
        "reversed_text = \"\"\n",
        "i = len(text) - 1\n",
        "\n",
        "while i >= 0:\n",
        "    reversed_text += text[i]\n",
        "    i -= 1\n",
        "\n",
        "print(\"Reversed string:\", reversed_text)\n"
      ],
      "metadata": {
        "colab": {
          "base_uri": "https://localhost:8080/"
        },
        "id": "mftEPGXyThcK",
        "outputId": "2c2512de-4f27-4ba9-a766-d5e2e827f246"
      },
      "execution_count": 14,
      "outputs": [
        {
          "output_type": "stream",
          "name": "stdout",
          "text": [
            "Enter a string: prakash\n",
            "Reversed string: hsakarp\n"
          ]
        }
      ]
    },
    {
      "cell_type": "code",
      "source": [
        "# Write a Python program to calculate the factorial of a number provided by the user using a while loop\n",
        "\n",
        "num = int(input(\"Enter a number: \"))\n",
        "fact = 1\n",
        "i = 1\n",
        "\n",
        "while i <= num:\n",
        "    fact *= i\n",
        "    i += 1\n",
        "\n",
        "print(\"Factorial:\", fact)\n"
      ],
      "metadata": {
        "colab": {
          "base_uri": "https://localhost:8080/"
        },
        "id": "svYTtpihTrKb",
        "outputId": "fd6ae681-765f-43f0-cee6-daf0eb044d54"
      },
      "execution_count": 16,
      "outputs": [
        {
          "output_type": "stream",
          "name": "stdout",
          "text": [
            "Enter a number: 25\n",
            "Factorial: 15511210043330985984000000\n"
          ]
        }
      ]
    },
    {
      "cell_type": "code",
      "source": [],
      "metadata": {
        "id": "gCh4gJVNT1TT"
      },
      "execution_count": null,
      "outputs": []
    }
  ]
}